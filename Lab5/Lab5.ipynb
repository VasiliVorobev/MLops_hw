{
  "nbformat": 4,
  "nbformat_minor": 0,
  "metadata": {
    "colab": {
      "provenance": [],
      "collapsed_sections": [
        "wt0hf7lby1mY",
        "6d25sCn8zFjt",
        "TMqJQgrLzPud"
      ]
    },
    "kernelspec": {
      "name": "python3",
      "display_name": "Python 3"
    },
    "language_info": {
      "name": "python"
    }
  },
  "cells": [
    {
      "cell_type": "markdown",
      "source": [
        "# Лабораторная работа №5"
      ],
      "metadata": {
        "id": "tPykAfw0y5yH"
      }
    },
    {
      "cell_type": "markdown",
      "source": [
        "## Содержание задания"
      ],
      "metadata": {
        "id": "wt0hf7lby1mY"
      }
    },
    {
      "cell_type": "markdown",
      "source": [
        "Создать три датасета с «качественными данными», на которых можно обучить простую модель линейной регрессии, например:\n",
        "- на одном из этих датасетов обучить модель линейной регрессии.\n",
        "- создать датасет с шумом в данных\n",
        "- провести тестирование работы модели на разных датасетах с использованием Pytest, анализируя качество предсказания, обнаружить проблему на датасете с шумами."
      ],
      "metadata": {
        "id": "u8ezaMmnzAzt"
      }
    },
    {
      "cell_type": "markdown",
      "source": [
        "## Импорт модулей"
      ],
      "metadata": {
        "id": "pUFA9tqTFnOn"
      }
    },
    {
      "cell_type": "code",
      "source": [
        "# Установка ipytest для интеграции pytest с Jupyter\n",
        "!pip install ipytest\n"
      ],
      "metadata": {
        "colab": {
          "base_uri": "https://localhost:8080/"
        },
        "id": "omTJHDCY0-G1",
        "outputId": "fe73b0fc-94b3-4712-97d4-deb680c788d1"
      },
      "execution_count": 1,
      "outputs": [
        {
          "output_type": "stream",
          "name": "stdout",
          "text": [
            "Collecting ipytest\n",
            "  Downloading ipytest-0.14.2-py3-none-any.whl (18 kB)\n",
            "Requirement already satisfied: ipython in /usr/local/lib/python3.10/dist-packages (from ipytest) (7.34.0)\n",
            "Requirement already satisfied: packaging in /usr/local/lib/python3.10/dist-packages (from ipytest) (24.0)\n",
            "Requirement already satisfied: pytest>=5.4 in /usr/local/lib/python3.10/dist-packages (from ipytest) (7.4.4)\n",
            "Requirement already satisfied: iniconfig in /usr/local/lib/python3.10/dist-packages (from pytest>=5.4->ipytest) (2.0.0)\n",
            "Requirement already satisfied: pluggy<2.0,>=0.12 in /usr/local/lib/python3.10/dist-packages (from pytest>=5.4->ipytest) (1.5.0)\n",
            "Requirement already satisfied: exceptiongroup>=1.0.0rc8 in /usr/local/lib/python3.10/dist-packages (from pytest>=5.4->ipytest) (1.2.1)\n",
            "Requirement already satisfied: tomli>=1.0.0 in /usr/local/lib/python3.10/dist-packages (from pytest>=5.4->ipytest) (2.0.1)\n",
            "Requirement already satisfied: setuptools>=18.5 in /usr/local/lib/python3.10/dist-packages (from ipython->ipytest) (67.7.2)\n",
            "Collecting jedi>=0.16 (from ipython->ipytest)\n",
            "  Downloading jedi-0.19.1-py2.py3-none-any.whl (1.6 MB)\n",
            "\u001b[2K     \u001b[90m━━━━━━━━━━━━━━━━━━━━━━━━━━━━━━━━━━━━━━━━\u001b[0m \u001b[32m1.6/1.6 MB\u001b[0m \u001b[31m7.6 MB/s\u001b[0m eta \u001b[36m0:00:00\u001b[0m\n",
            "\u001b[?25hRequirement already satisfied: decorator in /usr/local/lib/python3.10/dist-packages (from ipython->ipytest) (4.4.2)\n",
            "Requirement already satisfied: pickleshare in /usr/local/lib/python3.10/dist-packages (from ipython->ipytest) (0.7.5)\n",
            "Requirement already satisfied: traitlets>=4.2 in /usr/local/lib/python3.10/dist-packages (from ipython->ipytest) (5.7.1)\n",
            "Requirement already satisfied: prompt-toolkit!=3.0.0,!=3.0.1,<3.1.0,>=2.0.0 in /usr/local/lib/python3.10/dist-packages (from ipython->ipytest) (3.0.45)\n",
            "Requirement already satisfied: pygments in /usr/local/lib/python3.10/dist-packages (from ipython->ipytest) (2.16.1)\n",
            "Requirement already satisfied: backcall in /usr/local/lib/python3.10/dist-packages (from ipython->ipytest) (0.2.0)\n",
            "Requirement already satisfied: matplotlib-inline in /usr/local/lib/python3.10/dist-packages (from ipython->ipytest) (0.1.7)\n",
            "Requirement already satisfied: pexpect>4.3 in /usr/local/lib/python3.10/dist-packages (from ipython->ipytest) (4.9.0)\n",
            "Requirement already satisfied: parso<0.9.0,>=0.8.3 in /usr/local/lib/python3.10/dist-packages (from jedi>=0.16->ipython->ipytest) (0.8.4)\n",
            "Requirement already satisfied: ptyprocess>=0.5 in /usr/local/lib/python3.10/dist-packages (from pexpect>4.3->ipython->ipytest) (0.7.0)\n",
            "Requirement already satisfied: wcwidth in /usr/local/lib/python3.10/dist-packages (from prompt-toolkit!=3.0.0,!=3.0.1,<3.1.0,>=2.0.0->ipython->ipytest) (0.2.13)\n",
            "Installing collected packages: jedi, ipytest\n",
            "Successfully installed ipytest-0.14.2 jedi-0.19.1\n"
          ]
        }
      ]
    },
    {
      "cell_type": "code",
      "execution_count": 2,
      "metadata": {
        "id": "i5ko-OQUyg69"
      },
      "outputs": [],
      "source": [
        "import numpy as np\n",
        "import pandas as pd\n",
        "from sklearn.model_selection import train_test_split\n",
        "from sklearn.linear_model import LinearRegression\n",
        "from sklearn.metrics import mean_squared_error\n",
        "import matplotlib.pyplot as plt\n",
        "import ipytest"
      ]
    },
    {
      "cell_type": "markdown",
      "source": [
        "## Создание датасета"
      ],
      "metadata": {
        "id": "6d25sCn8zFjt"
      }
    },
    {
      "cell_type": "code",
      "source": [
        "n_sample = 100\n",
        "xs = np.linspace(0, 1, n_sample)\n",
        "ys = xs + np.random.random (n_sample) *0.4-0.2"
      ],
      "metadata": {
        "id": "8lVv5MA64w6u"
      },
      "execution_count": 5,
      "outputs": []
    },
    {
      "cell_type": "code",
      "source": [
        "X_lin = xs.reshape(-1, 1)\n",
        "y_lin = ys.reshape(-1, 1)"
      ],
      "metadata": {
        "id": "7lKVvh3X856b"
      },
      "execution_count": 6,
      "outputs": []
    },
    {
      "cell_type": "code",
      "source": [
        "len(X_lin)"
      ],
      "metadata": {
        "colab": {
          "base_uri": "https://localhost:8080/"
        },
        "id": "uL7Ih69gDR_x",
        "outputId": "61335513-fc20-4784-b2aa-ac0cdd6d0585"
      },
      "execution_count": 7,
      "outputs": [
        {
          "output_type": "execute_result",
          "data": {
            "text/plain": [
              "100"
            ]
          },
          "metadata": {},
          "execution_count": 7
        }
      ]
    },
    {
      "cell_type": "code",
      "source": [
        "len(y_lin)"
      ],
      "metadata": {
        "colab": {
          "base_uri": "https://localhost:8080/"
        },
        "id": "qOcLLapLDExT",
        "outputId": "7cbc8e54-b607-4f9b-d764-84e30cf7f037"
      },
      "execution_count": 8,
      "outputs": [
        {
          "output_type": "execute_result",
          "data": {
            "text/plain": [
              "100"
            ]
          },
          "metadata": {},
          "execution_count": 8
        }
      ]
    },
    {
      "cell_type": "markdown",
      "source": [
        "## Создание датасета с шумом"
      ],
      "metadata": {
        "id": "TMqJQgrLzPud"
      }
    },
    {
      "cell_type": "code",
      "source": [
        "noise_level = 0.1  # уровень шума\n",
        "f_noise_data = np.random.random (int(n_sample*noise_level))\n",
        "f_noise = f_noise_data.reshape(-1, 1)\n",
        "\n",
        "# Добавление шума к данным\n",
        "X_noisy = np.concatenate([X_lin, f_noise], axis=0)\n",
        "len(X_noisy)"
      ],
      "metadata": {
        "colab": {
          "base_uri": "https://localhost:8080/"
        },
        "id": "D16mJCJEzQ7j",
        "outputId": "42e5893a-b685-4eb4-b316-045abf76c09d"
      },
      "execution_count": 9,
      "outputs": [
        {
          "output_type": "execute_result",
          "data": {
            "text/plain": [
              "110"
            ]
          },
          "metadata": {},
          "execution_count": 9
        }
      ]
    },
    {
      "cell_type": "code",
      "source": [
        "# Генерация шума для целевой переменной\n",
        "target_noise_data = np.random.random (int(n_sample*noise_level))*2\n",
        "target_noise = target_noise_data.reshape(-1, 1)\n",
        "\n",
        "# Добавление шума к целевой переменной\n",
        "y_noisy = np.concatenate([y_lin, target_noise], axis=0)\n",
        "len(y_noisy)"
      ],
      "metadata": {
        "colab": {
          "base_uri": "https://localhost:8080/"
        },
        "id": "GtUqNqkVzW-4",
        "outputId": "c86bb1ec-15a5-40de-8fc1-0f8e0fa374a3"
      },
      "execution_count": 11,
      "outputs": [
        {
          "output_type": "execute_result",
          "data": {
            "text/plain": [
              "110"
            ]
          },
          "metadata": {},
          "execution_count": 11
        }
      ]
    },
    {
      "cell_type": "markdown",
      "source": [
        "## Обучение модели линейной регрессии на исходном дадасете"
      ],
      "metadata": {
        "id": "K8RtTrIfzZJO"
      }
    },
    {
      "cell_type": "code",
      "source": [
        "# Разделение данных на обучающую и тестовую выборку\n",
        "X_train, X_test, y_train, y_test = train_test_split(X_lin, y_lin, test_size=0.3, random_state=73)"
      ],
      "metadata": {
        "id": "nOqAE0TlzcWF"
      },
      "execution_count": 12,
      "outputs": []
    },
    {
      "cell_type": "code",
      "source": [
        "model = LinearRegression()\n",
        "model.fit(X_train, y_train)\n",
        "y_pred = model.predict(X_test)"
      ],
      "metadata": {
        "id": "rKCAhzX0zfho"
      },
      "execution_count": 13,
      "outputs": []
    },
    {
      "cell_type": "code",
      "source": [
        "plt. scatter (y_test, y_pred)\n",
        "plt.show()"
      ],
      "metadata": {
        "colab": {
          "base_uri": "https://localhost:8080/",
          "height": 430
        },
        "id": "BnetD4jG2tkF",
        "outputId": "0d6398d2-7857-4811-d692-16754d689247"
      },
      "execution_count": 14,
      "outputs": [
        {
          "output_type": "display_data",
          "data": {
            "text/plain": [
              "<Figure size 640x480 with 1 Axes>"
            ],
            "image/png": "[encoded data removed]"
          },
          "metadata": {}
        }
      ]
    },
    {
      "cell_type": "code",
      "source": [
        "# Оценка модели на тестовой выборке\n",
        "mse = mean_squared_error(y_test, y_pred)\n",
        "print(\"MSE:\", mse)"
      ],
      "metadata": {
        "colab": {
          "base_uri": "https://localhost:8080/"
        },
        "id": "HrUQ0Hnyzm7q",
        "outputId": "a0d4309f-60f2-4e46-930a-5ec1359fc6ba"
      },
      "execution_count": 15,
      "outputs": [
        {
          "output_type": "stream",
          "name": "stdout",
          "text": [
            "MSE: 0.013039395944558363\n"
          ]
        }
      ]
    },
    {
      "cell_type": "markdown",
      "source": [
        "## Написание тестов с использованием pytest"
      ],
      "metadata": {
        "id": "6rBKdaDWzl0t"
      }
    },
    {
      "cell_type": "code",
      "source": [
        "ipytest.autoconfig()"
      ],
      "metadata": {
        "id": "-0JWuTRMzqVQ"
      },
      "execution_count": 16,
      "outputs": []
    },
    {
      "cell_type": "code",
      "source": [
        "def test_model():\n",
        "    _, X_test_features, _, y_test_features = train_test_split(X_lin, y_lin, test_size=0.3, random_state=3)\n",
        "    predict = model.predict(X_test_features)\n",
        "    mse = mean_squared_error(y_test_features, predict)\n",
        "    print(\"MSE :\", mse)\n",
        "    assert mse < 0.02"
      ],
      "metadata": {
        "id": "jM82kzngzsto"
      },
      "execution_count": 19,
      "outputs": []
    },
    {
      "cell_type": "code",
      "source": [
        "# проверяем пройдет или нет\n",
        "ipytest.run('-v')"
      ],
      "metadata": {
        "colab": {
          "base_uri": "https://localhost:8080/"
        },
        "id": "vsAyz-h-zutv",
        "outputId": "f50ad415-cf00-4448-888c-1a7a12fd6bcb"
      },
      "execution_count": 20,
      "outputs": [
        {
          "output_type": "stream",
          "name": "stdout",
          "text": [
            "\u001b[1m======================================= test session starts ========================================\u001b[0m\n",
            "platform linux -- Python 3.10.12, pytest-7.4.4, pluggy-1.5.0\n",
            "rootdir: /content\n",
            "plugins: anyio-3.7.1\n",
            "collected 1 item\n",
            "\n",
            "t_d9f40686b55b4744acb5343b4aad9e09.py \u001b[32m.\u001b[0m\u001b[32m                                                      [100%]\u001b[0m\n",
            "\n",
            "\u001b[32m======================================== \u001b[32m\u001b[1m1 passed\u001b[0m\u001b[32m in 0.02s\u001b[0m\u001b[32m =========================================\u001b[0m\n"
          ]
        },
        {
          "output_type": "execute_result",
          "data": {
            "text/plain": [
              "<ExitCode.OK: 0>"
            ]
          },
          "metadata": {},
          "execution_count": 20
        }
      ]
    },
    {
      "cell_type": "markdown",
      "source": [
        "Тест пройден"
      ],
      "metadata": {
        "id": "VEYQd4lwzy5A"
      }
    },
    {
      "cell_type": "code",
      "source": [
        "def test_model_max():\n",
        "    _, X_test_noisy_features, _, y_test_noisy_features = train_test_split(X_noisy, y_noisy, test_size=0.3, random_state=3)\n",
        "    predict = model.predict(X_test_noisy_features)\n",
        "    mse = mean_squared_error(y_test_noisy_features, predict)\n",
        "    print(\"MSE :\", mse)\n",
        "    assert mse < 0.02"
      ],
      "metadata": {
        "id": "F3vWmxrkzzwW"
      },
      "execution_count": 21,
      "outputs": []
    },
    {
      "cell_type": "code",
      "source": [
        "ipytest.run('-v')"
      ],
      "metadata": {
        "colab": {
          "base_uri": "https://localhost:8080/"
        },
        "id": "-W7jrSguz3Y0",
        "outputId": "249d3192-a397-4361-8e4b-0099a6c81793"
      },
      "execution_count": 22,
      "outputs": [
        {
          "output_type": "stream",
          "name": "stdout",
          "text": [
            "\u001b[1m======================================= test session starts ========================================\u001b[0m\n",
            "platform linux -- Python 3.10.12, pytest-7.4.4, pluggy-1.5.0\n",
            "rootdir: /content\n",
            "plugins: anyio-3.7.1\n",
            "collected 2 items\n",
            "\n",
            "t_d9f40686b55b4744acb5343b4aad9e09.py \u001b[32m.\u001b[0m\u001b[31mF\u001b[0m\u001b[31m                                                     [100%]\u001b[0m\n",
            "\n",
            "============================================= FAILURES =============================================\n",
            "\u001b[31m\u001b[1m__________________________________________ test_model_max __________________________________________\u001b[0m\n",
            "\n",
            "    \u001b[94mdef\u001b[39;49;00m \u001b[92mtest_model_max\u001b[39;49;00m():\u001b[90m\u001b[39;49;00m\n",
            "        _, X_test_noisy_features, _, y_test_noisy_features = train_test_split(X_noisy, y_noisy, test_size=\u001b[94m0.3\u001b[39;49;00m, random_state=\u001b[94m3\u001b[39;49;00m)\u001b[90m\u001b[39;49;00m\n",
            "        predict = model.predict(X_test_noisy_features)\u001b[90m\u001b[39;49;00m\n",
            "        mse = mean_squared_error(y_test_noisy_features, predict)\u001b[90m\u001b[39;49;00m\n",
            "        \u001b[96mprint\u001b[39;49;00m(\u001b[33m\"\u001b[39;49;00m\u001b[33mMSE :\u001b[39;49;00m\u001b[33m\"\u001b[39;49;00m, mse)\u001b[90m\u001b[39;49;00m\n",
            ">       \u001b[94massert\u001b[39;49;00m mse < \u001b[94m0.02\u001b[39;49;00m\u001b[90m\u001b[39;49;00m\n",
            "\u001b[1m\u001b[31mE       assert 0.1391606015250427 < 0.02\u001b[0m\n",
            "\n",
            "\u001b[1m\u001b[31m<ipython-input-21-8fb23b7f11d5>\u001b[0m:6: AssertionError\n",
            "--------------------------------------- Captured stdout call ---------------------------------------\n",
            "MSE : 0.1391606015250427\n",
            "\u001b[36m\u001b[1m===================================== short test summary info ======================================\u001b[0m\n",
            "\u001b[31mFAILED\u001b[0m t_d9f40686b55b4744acb5343b4aad9e09.py::\u001b[1mtest_model_max\u001b[0m - assert 0.1391606015250427 < 0.02\n",
            "\u001b[31m=================================== \u001b[31m\u001b[1m1 failed\u001b[0m, \u001b[32m1 passed\u001b[0m\u001b[31m in 0.04s\u001b[0m\u001b[31m ====================================\u001b[0m\n"
          ]
        },
        {
          "output_type": "execute_result",
          "data": {
            "text/plain": [
              "<ExitCode.TESTS_FAILED: 1>"
            ]
          },
          "metadata": {},
          "execution_count": 22
        }
      ]
    },
    {
      "cell_type": "markdown",
      "source": [
        "Тест на данных с шумом не пройден"
      ],
      "metadata": {
        "id": "dhTzOmg6z30Z"
      }
    }
  ]
}